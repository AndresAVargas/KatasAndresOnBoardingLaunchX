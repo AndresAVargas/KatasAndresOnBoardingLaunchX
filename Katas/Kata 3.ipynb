{
 "cells": [
  {
   "cell_type": "markdown",
   "metadata": {},
   "source": [
    "# Kata 3.\n",
    "Escribir declaraciones if, else, y elif"
   ]
  },
  {
   "cell_type": "markdown",
   "metadata": {},
   "source": [
    "Para este ejercicio, escribirás una lógica condicional que imprima una advertencia si un asteroide se acerca a la Tierra demasiado rápido. La velocidad del asteroide varía dependiendo de lo cerca que esté del sol, y cualquier velocidad superior a 25 kilómetros por segundo (km/s) merece una advertencia.\n",
    "\n",
    "Un asteroide se acerca, y viaja a una velocidad de 49 km/s."
   ]
  },
  {
   "cell_type": "code",
   "execution_count": 4,
   "metadata": {},
   "outputs": [
    {
     "name": "stdout",
     "output_type": "stream",
     "text": [
      "Un asteroide se acerca, y viaja a una velocidad de 49 km/s, ¡cuidado!\n"
     ]
    }
   ],
   "source": [
    "asteroide = 49\n",
    "b = 25\n",
    "if asteroide >= b:\n",
    "   print(\"Un asteroide se acerca, y viaja a una velocidad de\", asteroide ,\"km/s, ¡cuidado!\")\n",
    "else: \n",
    "   print(\"Todo tranqui\")"
   ]
  },
  {
   "cell_type": "markdown",
   "metadata": {},
   "source": [
    "Si un asteroide entra en la atmósfera de la Tierra a una velocidad mayor o igual a 20 km/s, a veces produce un rayo de luz que se puede ver desde la Tierra. Escribe la lógica condicional que usa declaraciones if, else, y elif para alertar a las personas de todo el mundo que deben buscar un asteroide en el cielo. ¡Hay uno que se dirige a la tierra ahora a una velocidad de 19 km/s!"
   ]
  },
  {
   "cell_type": "code",
   "execution_count": 3,
   "metadata": {},
   "outputs": [
    {
     "name": "stdout",
     "output_type": "stream",
     "text": [
      "todo tranqui\n"
     ]
    }
   ],
   "source": [
    "asteroide = 19\n",
    "b = 20\n",
    "if asteroide >= b:\n",
    "   print(\"¡Hay un asteroide que se dirige a la tierra ahora a una velocidad de\" , asteroide , \"km/s!, puede que un rayo de luz se pueda ver desde la Tierra.\")\n",
    "else :\n",
    "   print(\"todo tranqui\")"
   ]
  },
  {
   "cell_type": "markdown",
   "metadata": {},
   "source": [
    "En este ejercicio, aprenderás información más matizada sobre cuándo los asteroides representan un peligro para la Tierra, y utilizarás esa información para mejorar nuestro sistema de advertencia. "
   ]
  },
  {
   "cell_type": "code",
   "execution_count": 19,
   "metadata": {},
   "outputs": [
    {
     "name": "stdout",
     "output_type": "stream",
     "text": [
      "¡Hay un asteroide que se dirige a la tierra ahora a una velocidad de 20 km/s!, puede que un rayo de luz se pueda ver desde la Tierra.\n"
     ]
    }
   ],
   "source": [
    "Vasteroide = 20\n",
    "Tasteroide =20\n",
    "V = 25 \n",
    "T = 25\n",
    "if Tasteroide > T or Vasteroide > V:\n",
    "   print(\"!Cuidado¡ un asteroide amenaza la tierra, se dirije con velocidad de\", Vasteroide , \"Km/s con un tamaño de\", Tasteroide , \"m\" )\n",
    "elif Vasteroide < 25 and Vasteroide > 19 :\n",
    "   print(\"¡Hay un asteroide que se dirige a la tierra ahora a una velocidad de\" , Vasteroide , \"km/s!, puede que un rayo de luz se pueda ver desde la Tierra.\")\n",
    "elif Vasteroide < 20 and Tasteroide < 25:\n",
    "   print(\"Todo tranqui\")\n",
    "else:\n",
    "   print(\"Todo tranqui\")\n",
    "\n"
   ]
  }
 ],
 "metadata": {
  "interpreter": {
   "hash": "3e6d73b476d4936eced2c750b86fab3a91f9194235a8878ca669426c62d43a39"
  },
  "kernelspec": {
   "display_name": "Python 3.10.2 64-bit",
   "language": "python",
   "name": "python3"
  },
  "language_info": {
   "codemirror_mode": {
    "name": "ipython",
    "version": 3
   },
   "file_extension": ".py",
   "mimetype": "text/x-python",
   "name": "python",
   "nbconvert_exporter": "python",
   "pygments_lexer": "ipython3",
   "version": "3.10.2"
  },
  "orig_nbformat": 4
 },
 "nbformat": 4,
 "nbformat_minor": 2
}
